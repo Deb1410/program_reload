{
  "nbformat": 4,
  "nbformat_minor": 0,
  "metadata": {
    "colab": {
      "provenance": [],
      "mount_file_id": "12J2yJJlf4LZHiibDr3Y_ibk_fuwoFwtU",
      "authorship_tag": "ABX9TyPuu38W6sS0HOEgGYlywk95"
    },
    "kernelspec": {
      "name": "python3",
      "display_name": "Python 3"
    },
    "language_info": {
      "name": "python"
    }
  },
  "cells": [
    {
      "cell_type": "code",
      "execution_count": null,
      "metadata": {
        "id": "bxCfhZtQqQ95"
      },
      "outputs": [],
      "source": [
        "import numpy as np\n",
        "from matplotlib import pyplot as plt\n",
        "import cv2\n",
        "\n",
        "img = cv2.imread('/content/test_project.png',2)\n",
        "ret, thresh1 = cv2.threshold(img, 127, 255, cv2.THRESH_BINARY)\n",
        "ret, thresh2 = cv2.threshold(img, 127, 255, cv2.THRESH_BINARY_INV)\n",
        "\n",
        "titles = ['ORIGINAL IMAGE','BINARY IMAGE','BINARY_INV']\n",
        "images = [img, thresh1, thresh2]\n",
        "\n",
        "for i in range(3):\n",
        "  plt.subplot(2,2,i+1),plt.imshow(images[i],'gray')\n",
        "  plt.title(titles[i])\n",
        "  plt.xticks([]), plt.yticks([])\n",
        "\n",
        "plt.show()\n",
        "print(img)\n",
        "print(thresh2)\n",
        "print(thresh1)\n",
        "\n",
        "print(img.shape)\n",
        "\n",
        "for row in thresh2:\n",
        "  for col in row:\n",
        "    print(thresh2[row][col])\n"
      ]
    },
    {
      "cell_type": "code",
      "source": [
        "import cv2\n",
        "\n",
        "im = cv2.imread('/content/drive/MyDrive/chest_ct_scan_Data/train/normal/10.png')"
      ],
      "metadata": {
        "id": "tAhPpqqHBxTX"
      },
      "execution_count": 24,
      "outputs": []
    },
    {
      "cell_type": "code",
      "source": [
        "th, im_th = cv2.threshold(im, 128, 255, cv2.THRESH_BINARY)\n",
        "\n",
        "print(th)\n",
        "# 128.0\n",
        "\n",
        "cv2.imwrite('/content/opencv.jpg', im_th)\n",
        "print(im_th.shape)\n",
        "print(im_th)\n",
        "\"\"\"for row in im_th:\n",
        "  for col in row:\n",
        "    for k in col:\n",
        "      if k!=0:\n",
        "        print(im_th[row][k])\"\"\""
      ],
      "metadata": {
        "colab": {
          "base_uri": "https://localhost:8080/",
          "height": 938
        },
        "id": "bqcOIRFdCWjn",
        "outputId": "648087f6-7501-4f06-da82-6714dc4625ee"
      },
      "execution_count": 26,
      "outputs": [
        {
          "output_type": "stream",
          "name": "stdout",
          "text": [
            "128.0\n",
            "(251, 371, 3)\n",
            "[[[0 0 0]\n",
            "  [0 0 0]\n",
            "  [0 0 0]\n",
            "  ...\n",
            "  [0 0 0]\n",
            "  [0 0 0]\n",
            "  [0 0 0]]\n",
            "\n",
            " [[0 0 0]\n",
            "  [0 0 0]\n",
            "  [0 0 0]\n",
            "  ...\n",
            "  [0 0 0]\n",
            "  [0 0 0]\n",
            "  [0 0 0]]\n",
            "\n",
            " [[0 0 0]\n",
            "  [0 0 0]\n",
            "  [0 0 0]\n",
            "  ...\n",
            "  [0 0 0]\n",
            "  [0 0 0]\n",
            "  [0 0 0]]\n",
            "\n",
            " ...\n",
            "\n",
            " [[0 0 0]\n",
            "  [0 0 0]\n",
            "  [0 0 0]\n",
            "  ...\n",
            "  [0 0 0]\n",
            "  [0 0 0]\n",
            "  [0 0 0]]\n",
            "\n",
            " [[0 0 0]\n",
            "  [0 0 0]\n",
            "  [0 0 0]\n",
            "  ...\n",
            "  [0 0 0]\n",
            "  [0 0 0]\n",
            "  [0 0 0]]\n",
            "\n",
            " [[0 0 0]\n",
            "  [0 0 0]\n",
            "  [0 0 0]\n",
            "  ...\n",
            "  [0 0 0]\n",
            "  [0 0 0]\n",
            "  [0 0 0]]]\n"
          ]
        },
        {
          "output_type": "execute_result",
          "data": {
            "text/plain": [
              "'for row in im_th:\\n  for col in row:\\n    for k in col:\\n      if k!=0:\\n        print(im_th[row][k])'"
            ],
            "application/vnd.google.colaboratory.intrinsic+json": {
              "type": "string"
            }
          },
          "metadata": {},
          "execution_count": 26
        }
      ]
    },
    {
      "cell_type": "code",
      "source": [
        "th, im_th_tz = cv2.threshold(im, 128, 255, cv2.THRESH_TOZERO)\n",
        "\n",
        "print(th)\n",
        "# 128.0\n",
        "\n",
        "cv2.imwrite('/content/opencv_th_tz.jpg', im_th_tz)"
      ],
      "metadata": {
        "colab": {
          "base_uri": "https://localhost:8080/"
        },
        "id": "INUO-Sk8GNz2",
        "outputId": "e6554d28-4841-4899-9a0a-b8f59c88534d"
      },
      "execution_count": null,
      "outputs": [
        {
          "output_type": "stream",
          "name": "stdout",
          "text": [
            "128.0\n"
          ]
        },
        {
          "output_type": "execute_result",
          "data": {
            "text/plain": [
              "True"
            ]
          },
          "metadata": {},
          "execution_count": 16
        }
      ]
    },
    {
      "cell_type": "code",
      "source": [
        "import numpy as np\n",
        "import cv2\n",
        "from matplotlib import pyplot as plt\n",
        "\n",
        "img = cv2.imread('/content/opencv_th.jpg')\n",
        "b,g,r = cv2.split(img)           # get b,g,r\n",
        "rgb_img = cv2.merge([r,g,b])     # switch it to rgb\n",
        "\n",
        "# Denoising\n",
        "dst = cv2.fastNlMeansDenoisingColored(img,None,10,10,7,21)\n",
        "\n",
        "b,g,r = cv2.split(dst)           # get b,g,r\n",
        "rgb_dst = cv2.merge([r,g,b])     # switch it to rgb\n",
        "\n",
        "plt.subplot(211),plt.imshow(rgb_img)\n",
        "plt.subplot(212),plt.imshow(rgb_dst)\n",
        "plt.show()"
      ],
      "metadata": {
        "colab": {
          "base_uri": "https://localhost:8080/",
          "height": 269
        },
        "id": "F7F2d4Uur6x7",
        "outputId": "e351ad3d-9cc7-4598-cdc9-0ec121cb653d"
      },
      "execution_count": null,
      "outputs": [
        {
          "output_type": "display_data",
          "data": {
            "text/plain": [
              "<Figure size 432x288 with 2 Axes>"
            ],
            "image/png": "[encoded data removed]"
          },
          "metadata": {
            "needs_background": "light"
          }
        }
      ]
    },
    {
      "cell_type": "code",
      "source": [
        "import cv2\n",
        "import numpy as np\n",
        "\n",
        "# load image\n",
        "img = cv2.imread(\"/content/opencv_th.jpg\")\n",
        "\n",
        "# convert to grayscale\n",
        "gray = cv2.cvtColor(img, cv2.COLOR_BGR2GRAY)\n",
        "\n",
        "# blur\n",
        "blur = cv2.GaussianBlur(gray, (0,0), sigmaX=33, sigmaY=33)\n",
        "\n",
        "# divide\n",
        "divide = cv2.divide(gray, blur, scale=255)\n",
        "\n",
        "# otsu threshold\n",
        "thresh = cv2.threshold(divide, 0, 255, cv2.THRESH_BINARY+cv2.THRESH_OTSU)[1]\n",
        "\n",
        "# apply morphology\n",
        "kernel = cv2.getStructuringElement(cv2.MORPH_RECT, (3,3))\n",
        "morph = cv2.morphologyEx(thresh, cv2.MORPH_CLOSE, kernel)\n",
        "\n",
        "# write result to disk\n",
        "cv2.imwrite(\"hebrew_text_division.jpg\", divide)\n",
        "cv2.imwrite(\"hebrew_text_division_threshold.jpg\", thresh)\n",
        "cv2.imwrite(\"hebrew_text_division_morph.jpg\", morph)\n",
        "\n",
        "# display it\n",
        "cv2.imshow(\"gray\", gray)\n",
        "cv2.imshow(\"divide\", divide)\n",
        "cv2.imshow(\"thresh\", thresh)\n",
        "cv2.imshow(\"morph\", morph)\n",
        "cv2.waitKey(0)\n",
        "cv2.destroyAllWindows()"
      ],
      "metadata": {
        "colab": {
          "base_uri": "https://localhost:8080/",
          "height": 467
        },
        "id": "ebrOvf5ivxzT",
        "outputId": "51a3bb0c-8c83-45f9-d8b1-d3f5d79ff36d"
      },
      "execution_count": null,
      "outputs": [
        {
          "output_type": "error",
          "ename": "DisabledFunctionError",
          "evalue": "ignored",
          "traceback": [
            "\u001b[0;31m---------------------------------------------------------------------------\u001b[0m",
            "\u001b[0;31mDisabledFunctionError\u001b[0m                     Traceback (most recent call last)",
            "\u001b[0;32m<ipython-input-12-f22052221e89>\u001b[0m in \u001b[0;36m<module>\u001b[0;34m\u001b[0m\n\u001b[1;32m     27\u001b[0m \u001b[0;34m\u001b[0m\u001b[0m\n\u001b[1;32m     28\u001b[0m \u001b[0;31m# display it\u001b[0m\u001b[0;34m\u001b[0m\u001b[0;34m\u001b[0m\u001b[0;34m\u001b[0m\u001b[0m\n\u001b[0;32m---> 29\u001b[0;31m \u001b[0mcv2\u001b[0m\u001b[0;34m.\u001b[0m\u001b[0mimshow\u001b[0m\u001b[0;34m(\u001b[0m\u001b[0;34m\"gray\"\u001b[0m\u001b[0;34m,\u001b[0m \u001b[0mgray\u001b[0m\u001b[0;34m)\u001b[0m\u001b[0;34m\u001b[0m\u001b[0;34m\u001b[0m\u001b[0m\n\u001b[0m\u001b[1;32m     30\u001b[0m \u001b[0mcv2\u001b[0m\u001b[0;34m.\u001b[0m\u001b[0mimshow\u001b[0m\u001b[0;34m(\u001b[0m\u001b[0;34m\"divide\"\u001b[0m\u001b[0;34m,\u001b[0m \u001b[0mdivide\u001b[0m\u001b[0;34m)\u001b[0m\u001b[0;34m\u001b[0m\u001b[0;34m\u001b[0m\u001b[0m\n\u001b[1;32m     31\u001b[0m \u001b[0mcv2\u001b[0m\u001b[0;34m.\u001b[0m\u001b[0mimshow\u001b[0m\u001b[0;34m(\u001b[0m\u001b[0;34m\"thresh\"\u001b[0m\u001b[0;34m,\u001b[0m \u001b[0mthresh\u001b[0m\u001b[0;34m)\u001b[0m\u001b[0;34m\u001b[0m\u001b[0;34m\u001b[0m\u001b[0m\n",
            "\u001b[0;32m/usr/local/lib/python3.8/dist-packages/google/colab/_import_hooks/_cv2.py\u001b[0m in \u001b[0;36mwrapped\u001b[0;34m(*args, **kwargs)\u001b[0m\n\u001b[1;32m     46\u001b[0m   \u001b[0;32mdef\u001b[0m \u001b[0mwrapped\u001b[0m\u001b[0;34m(\u001b[0m\u001b[0;34m*\u001b[0m\u001b[0margs\u001b[0m\u001b[0;34m,\u001b[0m \u001b[0;34m**\u001b[0m\u001b[0mkwargs\u001b[0m\u001b[0;34m)\u001b[0m\u001b[0;34m:\u001b[0m\u001b[0;34m\u001b[0m\u001b[0;34m\u001b[0m\u001b[0m\n\u001b[1;32m     47\u001b[0m     \u001b[0;32mif\u001b[0m \u001b[0;32mnot\u001b[0m \u001b[0mos\u001b[0m\u001b[0;34m.\u001b[0m\u001b[0menviron\u001b[0m\u001b[0;34m.\u001b[0m\u001b[0mget\u001b[0m\u001b[0;34m(\u001b[0m\u001b[0menv_var\u001b[0m\u001b[0;34m,\u001b[0m \u001b[0;32mFalse\u001b[0m\u001b[0;34m)\u001b[0m\u001b[0;34m:\u001b[0m\u001b[0;34m\u001b[0m\u001b[0;34m\u001b[0m\u001b[0m\n\u001b[0;32m---> 48\u001b[0;31m       \u001b[0;32mraise\u001b[0m \u001b[0mDisabledFunctionError\u001b[0m\u001b[0;34m(\u001b[0m\u001b[0mmessage\u001b[0m\u001b[0;34m,\u001b[0m \u001b[0mname\u001b[0m \u001b[0;32mor\u001b[0m \u001b[0mfunc\u001b[0m\u001b[0;34m.\u001b[0m\u001b[0m__name__\u001b[0m\u001b[0;34m)\u001b[0m\u001b[0;34m\u001b[0m\u001b[0;34m\u001b[0m\u001b[0m\n\u001b[0m\u001b[1;32m     49\u001b[0m     \u001b[0;32mreturn\u001b[0m \u001b[0mfunc\u001b[0m\u001b[0;34m(\u001b[0m\u001b[0;34m*\u001b[0m\u001b[0margs\u001b[0m\u001b[0;34m,\u001b[0m \u001b[0;34m**\u001b[0m\u001b[0mkwargs\u001b[0m\u001b[0;34m)\u001b[0m\u001b[0;34m\u001b[0m\u001b[0;34m\u001b[0m\u001b[0m\n\u001b[1;32m     50\u001b[0m \u001b[0;34m\u001b[0m\u001b[0m\n",
            "\u001b[0;31mDisabledFunctionError\u001b[0m: cv2.imshow() is disabled in Colab, because it causes Jupyter sessions\nto crash; see https://github.com/jupyter/notebook/issues/3935.\nAs a substitution, consider using\n  from google.colab.patches import cv2_imshow\n"
          ],
          "errorDetails": {
            "actions": [
              {
                "action": "open_snippet",
                "actionText": "Search Snippets for cv2.imshow",
                "snippetFilter": "cv2.imshow"
              }
            ]
          }
        }
      ]
    },
    {
      "cell_type": "code",
      "source": [
        "import cv2\n",
        "import numpy as np\n",
        "\n",
        "# load numpy array\n",
        "images = (\"/content/drive/MyDrive/chest_ct_scan_Data/train/normal/10.png\");\n",
        "\n",
        "# do the lung thing\n",
        "counter = 0;\n",
        "for img in images:\n",
        "    # convert to uint8\n",
        "    img *= 255;\n",
        "    inty = img.astype(np.uint8);\n",
        "\n",
        "    # dilate\n",
        "    kernel = np.ones((3,3), np.uint8);\n",
        "    mask = cv2.dilate(inty, kernel, iterations = 1);\n",
        "\n",
        "    # invert\n",
        "    mask = cv2.bitwise_not(mask);\n",
        "\n",
        "    # contours # OpenCV 3.4, this returns (contours, _) on OpenCV 2 and 4\n",
        "    _, contours, _ = cv2.findContours(mask, cv2.RETR_TREE, cv2.CHAIN_APPROX_SIMPLE);\n",
        "\n",
        "    # find biggest\n",
        "    biggest = None;\n",
        "    big_size = -1;\n",
        "    for con in contours:\n",
        "        area = cv2.contourArea(con);\n",
        "        if area > big_size:\n",
        "            big_size = area;\n",
        "            biggest = con;\n",
        "\n",
        "    # draw fill mask\n",
        "    mask2 = np.zeros_like(mask);\n",
        "    cv2.drawContours(mask2, [biggest], -1, (255), -1);\n",
        "\n",
        "    # combine\n",
        "    lungs_mask = cv2.bitwise_and(inty, mask2);\n",
        "\n",
        "    # show\n",
        "    cv2.imshow(\"Lungs\", inty);\n",
        "    cv2.imshow(\"Mask\", lungs_mask);\n",
        "    cv2.waitKey(30);"
      ],
      "metadata": {
        "colab": {
          "base_uri": "https://localhost:8080/",
          "height": 235
        },
        "id": "ShBgIBBn2meK",
        "outputId": "09695807-fc08-4ec0-837c-a65d3730c030"
      },
      "execution_count": 28,
      "outputs": [
        {
          "output_type": "error",
          "ename": "AttributeError",
          "evalue": "ignored",
          "traceback": [
            "\u001b[0;31m---------------------------------------------------------------------------\u001b[0m",
            "\u001b[0;31mAttributeError\u001b[0m                            Traceback (most recent call last)",
            "\u001b[0;32m<ipython-input-28-01c2462160f3>\u001b[0m in \u001b[0;36m<module>\u001b[0;34m\u001b[0m\n\u001b[1;32m     10\u001b[0m     \u001b[0;31m# convert to uint8\u001b[0m\u001b[0;34m\u001b[0m\u001b[0;34m\u001b[0m\u001b[0;34m\u001b[0m\u001b[0m\n\u001b[1;32m     11\u001b[0m     \u001b[0mimg\u001b[0m \u001b[0;34m*=\u001b[0m \u001b[0;36m255\u001b[0m\u001b[0;34m;\u001b[0m\u001b[0;34m\u001b[0m\u001b[0;34m\u001b[0m\u001b[0m\n\u001b[0;32m---> 12\u001b[0;31m     \u001b[0minty\u001b[0m \u001b[0;34m=\u001b[0m \u001b[0mimg\u001b[0m\u001b[0;34m.\u001b[0m\u001b[0mastype\u001b[0m\u001b[0;34m(\u001b[0m\u001b[0mnp\u001b[0m\u001b[0;34m.\u001b[0m\u001b[0muint8\u001b[0m\u001b[0;34m)\u001b[0m\u001b[0;34m;\u001b[0m\u001b[0;34m\u001b[0m\u001b[0;34m\u001b[0m\u001b[0m\n\u001b[0m\u001b[1;32m     13\u001b[0m \u001b[0;34m\u001b[0m\u001b[0m\n\u001b[1;32m     14\u001b[0m     \u001b[0;31m# dilate\u001b[0m\u001b[0;34m\u001b[0m\u001b[0;34m\u001b[0m\u001b[0;34m\u001b[0m\u001b[0m\n",
            "\u001b[0;31mAttributeError\u001b[0m: 'str' object has no attribute 'astype'"
          ]
        }
      ]
    },
    {
      "cell_type": "code",
      "source": [
        "from google.colab import drive\n",
        "drive.mount('/content/drive')"
      ],
      "metadata": {
        "colab": {
          "base_uri": "https://localhost:8080/"
        },
        "id": "qpdUEZ4cB6pg",
        "outputId": "069c7615-4122-4c1a-912f-c200e99bbedf"
      },
      "execution_count": null,
      "outputs": [
        {
          "output_type": "stream",
          "name": "stdout",
          "text": [
            "Mounted at /content/drive\n"
          ]
        }
      ]
    }
  ]
}