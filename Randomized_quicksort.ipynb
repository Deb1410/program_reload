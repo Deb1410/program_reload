{
  "nbformat": 4,
  "nbformat_minor": 0,
  "metadata": {
    "colab": {
      "name": "Untitled9.ipynb",
      "provenance": [],
      "collapsed_sections": [],
      "authorship_tag": "ABX9TyMxQKrd6msV4zrbs2FnVE7S",
      "include_colab_link": true
    },
    "kernelspec": {
      "name": "python3",
      "display_name": "Python 3"
    },
    "language_info": {
      "name": "python"
    }
  },
  "cells": [
    {
      "cell_type": "markdown",
      "metadata": {
        "id": "view-in-github",
        "colab_type": "text"
      },
      "source": [
        "<a href=\"https://colab.research.google.com/github/Deb1410/program_reload/blob/main/Randomized_quicksort.ipynb\" target=\"_parent\"><img src=\"https://colab.research.google.com/assets/colab-badge.svg\" alt=\"Open In Colab\"/></a>"
      ]
    },
    {
      "cell_type": "code",
      "execution_count": 1,
      "metadata": {
        "colab": {
          "base_uri": "https://localhost:8080/"
        },
        "id": "viZNXVPT8rxq",
        "outputId": "a20fefcf-eb55-492d-f24e-e69f2735b4ea"
      },
      "outputs": [
        {
          "output_type": "stream",
          "name": "stdout",
          "text": [
            "Before Sorting --> [4, 5, 7, 4, 3, 6, 0, 4, 22, 45, 82]\n",
            "After Sorting --> [0, 3, 4, 4, 4, 5, 6, 7, 22, 45, 82]\n"
          ]
        }
      ],
      "source": [
        "from random import randint\n",
        "def inPlaceQuickSort(A,start,end):\n",
        "    if start<end:\n",
        "        pivot=randint(start,end)\n",
        "        temp=A[end]\n",
        "        A[end]=A[pivot]\n",
        "        A[pivot]=temp\n",
        "        \n",
        "        p=inPlacePartition(A,start,end)\n",
        "        inPlaceQuickSort(A,start,p-1)\n",
        "        inPlaceQuickSort(A,p+1,end)\n",
        "\n",
        "\n",
        "def inPlacePartition(A,start,end):\n",
        "    pivot=randint(start,end)\n",
        "    temp=A[end]\n",
        "    A[end]=A[pivot]\n",
        "    A[pivot]=temp\n",
        "    newPivotIndex=start-1\n",
        "    for index in range(start,end):\n",
        "        if A[index]<A[end]:#check if current val is less than pivot value\n",
        "            newPivotIndex=newPivotIndex+1\n",
        "            temp=A[newPivotIndex]\n",
        "            A[newPivotIndex]=A[index]\n",
        "            A[index]=temp\n",
        "    temp=A[newPivotIndex+1]\n",
        "    A[newPivotIndex+1]=A[end]\n",
        "    A[end]=temp\n",
        "    return newPivotIndex+1\n",
        "\n",
        "\n",
        "X=[4,5,7,4,3,6,0,4,22,45,82]\n",
        "print(\"Before Sorting -->\",X)\n",
        "inPlaceQuickSort(X,0,len(X)-1)\n",
        "print(\"After Sorting -->\",X)"
      ]
    }
  ]
}