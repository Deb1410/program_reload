{
  "nbformat": 4,
  "nbformat_minor": 0,
  "metadata": {
    "colab": {
      "name": "Untitled6.ipynb",
      "provenance": [],
      "authorship_tag": "ABX9TyPDVgWO9D44cRfUzFdRygUM",
      "include_colab_link": true
    },
    "kernelspec": {
      "name": "python3",
      "display_name": "Python 3"
    },
    "language_info": {
      "name": "python"
    }
  },
  "cells": [
    {
      "cell_type": "markdown",
      "metadata": {
        "id": "view-in-github",
        "colab_type": "text"
      },
      "source": [
        "<a href=\"https://colab.research.google.com/github/Deb1410/program_reload/blob/main/Untitled6.ipynb\" target=\"_parent\"><img src=\"https://colab.research.google.com/assets/colab-badge.svg\" alt=\"Open In Colab\"/></a>"
      ]
    },
    {
      "cell_type": "code",
      "execution_count": 11,
      "metadata": {
        "colab": {
          "base_uri": "https://localhost:8080/"
        },
        "id": "YzhDOYdmEamG",
        "outputId": "2ae0e5ce-ed09-4d30-9baa-e7f2aa8b181e"
      },
      "outputs": [
        {
          "output_type": "stream",
          "name": "stdout",
          "text": [
            "Matrix multiplication result: \n",
            "[[ 148  -90  116]\n",
            " [ -80   99 -160]\n",
            " [ 112 -360  134]]\n"
          ]
        }
      ],
      "source": [
        "import numpy as np\n",
        "\n",
        "\n",
        "def strassen_algorithm(x, y):\n",
        "    if x.size == 1 or y.size == 1:\n",
        "        return x * y\n",
        "\n",
        "    n = x.shape[0]\n",
        "\n",
        "    if n % 2 == 1:\n",
        "        x = np.pad(x, (0, 1), mode='constant')\n",
        "        y = np.pad(y, (0, 1), mode='constant')\n",
        "\n",
        "    m = int(np.ceil(n / 2))\n",
        "    a = x[: m, : m]\n",
        "    b = x[: m, m:]\n",
        "    c = x[m:, : m]\n",
        "    d = x[m:, m:]\n",
        "    e = y[: m, : m]\n",
        "    f = y[: m, m:]\n",
        "    g = y[m:, : m]\n",
        "    h = y[m:, m:]\n",
        "    p1 = strassen_algorithm(a, f - h)\n",
        "    p2 = strassen_algorithm(a + b, h)\n",
        "    p3 = strassen_algorithm(c + d, e)\n",
        "    p4 = strassen_algorithm(d, g - e)\n",
        "    p5 = strassen_algorithm(a + d, e + h)\n",
        "    p6 = strassen_algorithm(b - d, g + h)\n",
        "    p7 = strassen_algorithm(a - c, e + f)\n",
        "    result = np.zeros((2 * m, 2 * m), dtype=np.int32)\n",
        "    result[: m, : m] = p5 + p4 - p2 + p6\n",
        "    result[: m, m:] = p1 + p2\n",
        "    result[m:, : m] = p3 + p4\n",
        "    result[m:, m:] = p1 + p5 - p3 - p7\n",
        "\n",
        "    return result[: n, : n]\n",
        "\n",
        "if __name__ == \"__main__\":\n",
        "\n",
        "    x = np.array([[12, -10, 7], [0, 11, -20], [6, -40, 13]])\n",
        "    y = np.array([[10, 0, 5], [0, 9, 0], [4, 0, 8]])\n",
        "    print('Matrix multiplication result: ')\n",
        "    print(strassen_algorithm(x, y))"
      ]
    }
  ]
}